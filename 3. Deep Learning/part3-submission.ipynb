{
 "cells": [
  {
   "cell_type": "markdown",
   "id": "b3c1cb34",
   "metadata": {},
   "source": [
    "# MSA 2024 Phase 2 - Part 3"
   ]
  },
  {
   "cell_type": "markdown",
   "id": "63aa5f79",
   "metadata": {},
   "source": [
    "Welcome to the competition - in Part 3, you are encouraged to utilize neural network based models for classification.\n",
    "\n",
    "This notebook builds a simple Multi-Layer Perceptron (MLP) model for the CIFAR-10 dataset, with the use of `keras` to define the model structure."
   ]
  },
  {
   "cell_type": "markdown",
   "id": "75f1c5d8",
   "metadata": {},
   "source": [
    "**Before start working on the competition, please ensure all required libraries are installed and properly set up on your system**:\n",
    "\n",
    "- `python >= 3.6`,\n",
    "- `tensorFlow >= 2.0`,\n",
    "- `keras >= 2.3`,\n",
    "\n",
    "and any neccassary liburaries for data manipulation and processing, e.g., `numpy`, `pandas`, etc."
   ]
  },
  {
   "cell_type": "code",
   "execution_count": 1,
   "id": "48d550cf",
   "metadata": {},
   "outputs": [],
   "source": [
    "import tensorflow as tf\n",
    "import numpy as np"
   ]
  },
  {
   "cell_type": "markdown",
   "id": "fc85f3a2",
   "metadata": {},
   "source": [
    "### 1. Load and split preprocessed data"
   ]
  },
  {
   "cell_type": "markdown",
   "id": "49efe468",
   "metadata": {},
   "source": [
    "The CIFAR-10 dataset contains 60,000 images(32x32x3) in 10 different classes, with 6,000 images in each class. You can download the dataset directly from the competition webpage.\n",
    "\n",
    "**To train the model, you are expected to use the training label provided in train.csv**."
   ]
  },
  {
   "cell_type": "code",
   "execution_count": 4,
   "id": "a3985907",
   "metadata": {},
   "outputs": [],
   "source": [
    "import zipfile\n",
    "import os\n",
    "\n",
    "# # prepare the training and testing image sets.\n",
    "# def unzipDataset(zip_path, extract_path):\n",
    "#     with zipfile.ZipFile(zip_path, 'r') as zip_ref:\n",
    "#         zip_ref.extractall(extract_path)\n",
    "\n",
    "# # set the paths\n",
    "# zip_path = 'nzmsa-2024.zip'\n",
    "# extract_path = os.getcwd()  \n",
    "\n",
    "# # unzip the dataset\n",
    "# unzipDataset(zip_path, extract_path)"
   ]
  },
  {
   "cell_type": "code",
   "execution_count": 2,
   "id": "49d0bb99",
   "metadata": {},
   "outputs": [],
   "source": [
    "from PIL import Image\n",
    "\n",
    "def loadTrain(root_dir, csv_file):\n",
    "    ids = []\n",
    "    images = []\n",
    "    labels = []\n",
    "    annotations = np.genfromtxt('train.csv', delimiter=',', names=True)\n",
    "    for idx in range(len(annotations)):\n",
    "        img_id = int(annotations['id'][idx])\n",
    "        img_name = os.path.join(root_dir, f\"image_{img_id}.png\")\n",
    "        image = np.array(Image.open(img_name).convert(\"RGB\"))\n",
    "        label = int(annotations['label'][idx])\n",
    "\n",
    "        ids.append(img_id)\n",
    "        images.append(image)\n",
    "        labels.append(label)\n",
    "    return np.array(ids), np.array(images), np.array(labels)\n",
    "\n",
    "def loadTest(root_dir):\n",
    "    ids = []\n",
    "    images = []\n",
    "    for idx in range(len(os.listdir(root_dir))):\n",
    "        img_name = os.path.join(root_dir, f\"image_{idx}.png\")\n",
    "        image = np.array(Image.open(img_name).convert(\"RGB\"))\n",
    "\n",
    "        ids.append(idx)\n",
    "        images.append(image)\n",
    "    return np.array(ids), np.array(images)"
   ]
  },
  {
   "cell_type": "code",
   "execution_count": 5,
   "id": "be41ec7f",
   "metadata": {},
   "outputs": [],
   "source": [
    "from tensorflow.keras.utils import to_categorical\n",
    "from sklearn.model_selection import train_test_split\n",
    "\n",
    "# paths to the dataset directories\n",
    "train_dir = os.path.join('cifar10_images', 'train')\n",
    "test_dir = os.path.join('cifar10_images', 'test')\n",
    "train_csv = 'train.csv'\n",
    "\n",
    "# load training, testing data and the training label provided in train.csv.\n",
    "id_train, X_train, y_train = loadTrain(train_dir, train_csv)\n",
    "id_test, X_test = loadTest(test_dir)\n",
    "\n",
    "# normalize the data. Reshape the data to fit in to a MLP or a CNN model.\n",
    "X_train = X_train.astype('float32') / 255.0\n",
    "X_test = X_test.astype('float32') / 255.0\n",
    "\n",
    "# Convert training labels to one-hot encoded vectors.\n",
    "y_train = to_categorical(y_train, 10)\n",
    "\n",
    "# Split the train set into a train set and a validation set, 20/80\n",
    "X_train, X_val, y_train, y_val = train_test_split(X_train, y_train, test_size=0.2, random_state=42)"
   ]
  },
  {
   "cell_type": "markdown",
   "id": "ef4a4a5e",
   "metadata": {},
   "source": [
    "### 2. Choose the algorithm"
   ]
  },
  {
   "cell_type": "markdown",
   "id": "2032b1e2",
   "metadata": {},
   "source": [
    "<h4> Multi-Layer Perception (MLP) </h4>\n",
    "<ol>\n",
    "    <li>Usage Case: A simple feedforward neural network can be used for basic classification tasks. While not as powerful as CNNs or ViTs for image or text data, MLPs can be effective for smaller datasets or simpler problems.</li>\n",
    "    <li>Benefits:\n",
    "        <ol>\n",
    "            <li>Versatile: Handles classification and regression.</li>\n",
    "            <li>Powerful: Models complex non-linear relationships.</li>\n",
    "            <li>Feature Learning: Learns from raw data.</li>\n",
    "            <li>Scalable: Performance improves with more layers/neurons.</li>\n",
    "        </ol>\n",
    "    </li>\n",
    "    <li>Conditions:\n",
    "        <ol>\n",
    "            <li>Data: Requires labeled, numerical data.</li>\n",
    "            <li>Resources: Needs significant computational power.</li>\n",
    "            <li>Preprocessing: Data normalisation, handle missing values.</li>\n",
    "            <li>Tuning: Hyperparameter tuning required.</li>\n",
    "            <li>Overfitting: Needs dropout, regularisation.</li>\n",
    "            <li>Training Time: Can be lengthy for large datasets.</li>\n",
    "        </ol>\n",
    "    </li>\n",
    "</ol>"
   ]
  },
  {
   "cell_type": "markdown",
   "id": "76316d56",
   "metadata": {},
   "source": [
    "<h4> Convolutional Neural Network (CNN) </h4>\n",
    "<ol>\n",
    "    <li>Usage Case: Designed to process data with grid-like topology (e.g. images, video, audio, etc.). CNNs use convolutional layers to extract features from the input data automatically. Examples include AlexNet, VGG, ResNet, EfficientNet, etc.</li>\n",
    "    <li>Benefits:\n",
    "        <ol>\n",
    "            <li>Spatial Hierarchies: Captures image spatial hierarchies.</li>\n",
    "            <li>Parameter Efficiency: Fewer parameters than fully connected networks.</li>\n",
    "            <li>Translation Invariance: Detects features irrespective of position.</li>\n",
    "            <li>Feature Extraction: Learns features from raw images.</li>\n",
    "            <li>High Accuracy: Excellent performance on image tasks.</li>\n",
    "        </ol>\n",
    "    </li>\n",
    "    <li>Conditions:\n",
    "        <ol>\n",
    "            <li>Data: Needs large labeled datasets.</li>\n",
    "            <li>Resources: Requires GPUs for training.</li>\n",
    "            <li>Preprocessing: Normalise, resize, augment images.</li>\n",
    "            <li>Architecture: Careful design of layers, filters.</li>\n",
    "            <li>Overfitting: Mitigated by dropout, data augmentation.</li>\n",
    "            <li>Training Time: Lengthy for complex models and large datasets.</li>\n",
    "        </ol>\n",
    "    </li>\n",
    "</ol>"
   ]
  },
  {
   "cell_type": "markdown",
   "id": "261ae9e8",
   "metadata": {},
   "source": [
    "### 3. Train and test the model"
   ]
  },
  {
   "cell_type": "markdown",
   "id": "7d3f0331",
   "metadata": {},
   "source": [
    "<h4> MLP </h4>"
   ]
  },
  {
   "cell_type": "code",
   "execution_count": 21,
   "id": "910c3303",
   "metadata": {},
   "outputs": [],
   "source": [
    "from tensorflow.keras import layers\n",
    "from tensorflow.keras import Sequential\n",
    "from tensorflow.keras.layers import Dense, Dropout\n",
    "from tensorflow.keras.callbacks import LearningRateScheduler, EarlyStopping"
   ]
  },
  {
   "cell_type": "code",
   "execution_count": 23,
   "id": "92d60add",
   "metadata": {},
   "outputs": [
    {
     "name": "stdout",
     "output_type": "stream",
     "text": [
      "Epoch 1/20\n",
      "625/625 [==============================] - 5s 8ms/step - loss: 2.3166 - accuracy: 0.0983 - val_loss: 2.3027 - val_accuracy: 0.0979 - lr: 0.0010\n",
      "Epoch 2/20\n",
      "625/625 [==============================] - 5s 8ms/step - loss: 2.3030 - accuracy: 0.0988 - val_loss: 2.3027 - val_accuracy: 0.1017 - lr: 0.0010\n",
      "Epoch 3/20\n",
      "625/625 [==============================] - 5s 7ms/step - loss: 2.3027 - accuracy: 0.1006 - val_loss: 2.3028 - val_accuracy: 0.0933 - lr: 0.0010\n",
      "Epoch 4/20\n",
      "625/625 [==============================] - 5s 7ms/step - loss: 2.3027 - accuracy: 0.1004 - val_loss: 2.3028 - val_accuracy: 0.0933 - lr: 0.0010\n",
      "Epoch 5/20\n",
      "625/625 [==============================] - 4s 7ms/step - loss: 2.3027 - accuracy: 0.1021 - val_loss: 2.3028 - val_accuracy: 0.0973 - lr: 0.0010\n",
      "Epoch 6/20\n",
      "625/625 [==============================] - 4s 7ms/step - loss: 2.3027 - accuracy: 0.0995 - val_loss: 2.3028 - val_accuracy: 0.0933 - lr: 0.0010\n",
      "Epoch 7/20\n",
      "625/625 [==============================] - 4s 6ms/step - loss: 2.3027 - accuracy: 0.0989 - val_loss: 2.3030 - val_accuracy: 0.0933 - lr: 0.0010\n",
      "Epoch 8/20\n",
      "625/625 [==============================] - 5s 8ms/step - loss: 2.3027 - accuracy: 0.0979 - val_loss: 2.3030 - val_accuracy: 0.0933 - lr: 0.0010\n",
      "Epoch 9/20\n",
      "625/625 [==============================] - 5s 9ms/step - loss: 2.3027 - accuracy: 0.1013 - val_loss: 2.3028 - val_accuracy: 0.0933 - lr: 0.0010\n",
      "Epoch 10/20\n",
      "625/625 [==============================] - 5s 8ms/step - loss: 2.3027 - accuracy: 0.1004 - val_loss: 2.3028 - val_accuracy: 0.0933 - lr: 0.0010\n",
      "Epoch 11/20\n",
      "625/625 [==============================] - 5s 8ms/step - loss: 2.3027 - accuracy: 0.0984 - val_loss: 2.3029 - val_accuracy: 0.0933 - lr: 0.0010\n",
      "Epoch 12/20\n",
      "625/625 [==============================] - 5s 8ms/step - loss: 2.3026 - accuracy: 0.0997 - val_loss: 2.3029 - val_accuracy: 0.0933 - lr: 5.0000e-04\n",
      "Epoch 13/20\n",
      "625/625 [==============================] - 5s 7ms/step - loss: 2.3026 - accuracy: 0.1007 - val_loss: 2.3029 - val_accuracy: 0.0933 - lr: 5.0000e-04\n",
      "Epoch 14/20\n",
      "625/625 [==============================] - 5s 8ms/step - loss: 2.3026 - accuracy: 0.0997 - val_loss: 2.3028 - val_accuracy: 0.0933 - lr: 5.0000e-04\n",
      "Epoch 15/20\n",
      "625/625 [==============================] - 5s 8ms/step - loss: 2.3026 - accuracy: 0.1013 - val_loss: 2.3029 - val_accuracy: 0.0933 - lr: 5.0000e-04\n",
      "Epoch 16/20\n",
      "625/625 [==============================] - 5s 8ms/step - loss: 2.3026 - accuracy: 0.1009 - val_loss: 2.3028 - val_accuracy: 0.0933 - lr: 5.0000e-04\n",
      "Epoch 17/20\n",
      "625/625 [==============================] - 5s 8ms/step - loss: 2.3026 - accuracy: 0.1017 - val_loss: 2.3029 - val_accuracy: 0.0933 - lr: 1.0000e-04\n",
      "Epoch 18/20\n",
      "625/625 [==============================] - 5s 8ms/step - loss: 2.3026 - accuracy: 0.1017 - val_loss: 2.3028 - val_accuracy: 0.0933 - lr: 1.0000e-04\n",
      "Epoch 19/20\n",
      "625/625 [==============================] - 5s 8ms/step - loss: 2.3026 - accuracy: 0.1017 - val_loss: 2.3028 - val_accuracy: 0.0933 - lr: 1.0000e-04\n",
      "Epoch 20/20\n",
      "625/625 [==============================] - 5s 7ms/step - loss: 2.3026 - accuracy: 0.1017 - val_loss: 2.3028 - val_accuracy: 0.0933 - lr: 1.0000e-04\n",
      "157/157 [==============================] - 0s 2ms/step\n"
     ]
    }
   ],
   "source": [
    "# Define a learning rate schduler\n",
    "def lr_schedule(epoch, lr):\n",
    "    if epoch > 10:\n",
    "        lr = 0.0005\n",
    "    if epoch > 15:\n",
    "        lr = 0.0001\n",
    "    return lr\n",
    "\n",
    "X_train_mlp = X_train.reshape(-1, 3072)\n",
    "X_val_mlp = X_val.reshape(-1, 3072)\n",
    "X_test_mlp = X_test.reshape(-1, 3072)\n",
    "\n",
    "# Model initialization.\n",
    "mlp_model = tf.keras.Sequential()\n",
    " \n",
    "# Build the MLP model.\n",
    "mlp_model.add(Dense(256, activation='relu', input_shape=(X_train_mlp.shape[1],)))\n",
    "mlp_model.add(Dropout(0.5)) # add dropout for regularisation\n",
    "mlp_model.add(Dense(256, activation='relu'))\n",
    "mlp_model.add(Dropout(0.5)) # add dropout for regularisation\n",
    "mlp_model.add(Dense(10,  activation=\"softmax\"))\n",
    "\n",
    "# Complile the model.\n",
    "mlp_model.compile(optimizer='adam', loss='categorical_crossentropy', metrics=['accuracy'])\n",
    "\n",
    "# Train the model.\n",
    "mlp_model.fit(X_train_mlp, y_train, epochs=20, batch_size=64, validation_data=(X_val_mlp, y_val), callbacks=[LearningRateScheduler(lr_schedule)])\n",
    "\n",
    "# Make predictions.\n",
    "mlp_predictions = mlp_model.predict(X_test_mlp)\n",
    "mlp_predicted_labels = np.argmax(mlp_predictions, axis=1)"
   ]
  },
  {
   "cell_type": "markdown",
   "id": "2cd925f6",
   "metadata": {},
   "source": [
    "<h4> CNN </h4>"
   ]
  },
  {
   "cell_type": "code",
   "execution_count": 11,
   "id": "5eae0c22",
   "metadata": {},
   "outputs": [],
   "source": [
    "from tensorflow.keras import layers, models, regularizers\n",
    "from tensorflow.keras.preprocessing.image import ImageDataGenerator\n",
    "from tensorflow.keras.layers import BatchNormalization\n",
    "from tensorflow.keras.optimizers import Adam, RMSprop\n",
    "from tensorflow.keras.regularizers import l2"
   ]
  },
  {
   "cell_type": "code",
   "execution_count": 41,
   "id": "3ce7c18a",
   "metadata": {},
   "outputs": [
    {
     "name": "stdout",
     "output_type": "stream",
     "text": [
      "Epoch 1/20\n",
      "625/625 [==============================] - 54s 85ms/step - loss: 2.4503 - accuracy: 0.3205 - val_loss: 2.6488 - val_accuracy: 0.2259 - lr: 0.0010\n",
      "Epoch 2/20\n",
      "625/625 [==============================] - 55s 87ms/step - loss: 1.9934 - accuracy: 0.4216 - val_loss: 3.6807 - val_accuracy: 0.1586 - lr: 0.0010\n",
      "Epoch 3/20\n",
      "625/625 [==============================] - 54s 86ms/step - loss: 1.7790 - accuracy: 0.4708 - val_loss: 2.1438 - val_accuracy: 0.3754 - lr: 0.0010\n",
      "Epoch 4/20\n",
      "625/625 [==============================] - 54s 87ms/step - loss: 1.6652 - accuracy: 0.4971 - val_loss: 3.2996 - val_accuracy: 0.2089 - lr: 0.0010\n",
      "Epoch 5/20\n",
      "625/625 [==============================] - 54s 87ms/step - loss: 1.6121 - accuracy: 0.5106 - val_loss: 1.8989 - val_accuracy: 0.4259 - lr: 0.0010\n",
      "Epoch 6/20\n",
      "625/625 [==============================] - 58s 93ms/step - loss: 1.5985 - accuracy: 0.5136 - val_loss: 1.3767 - val_accuracy: 0.5894 - lr: 0.0010\n",
      "Epoch 7/20\n",
      "625/625 [==============================] - 58s 93ms/step - loss: 1.5746 - accuracy: 0.5261 - val_loss: 1.6195 - val_accuracy: 0.5204 - lr: 0.0010\n",
      "Epoch 8/20\n",
      "625/625 [==============================] - 58s 93ms/step - loss: 1.5657 - accuracy: 0.5344 - val_loss: 2.2603 - val_accuracy: 0.3587 - lr: 0.0010\n",
      "Epoch 9/20\n",
      "625/625 [==============================] - 57s 92ms/step - loss: 1.5569 - accuracy: 0.5365 - val_loss: 1.6406 - val_accuracy: 0.5200 - lr: 0.0010\n",
      "Epoch 10/20\n",
      "625/625 [==============================] - 57s 91ms/step - loss: 1.5485 - accuracy: 0.5438 - val_loss: 2.4049 - val_accuracy: 0.3049 - lr: 0.0010\n",
      "Epoch 11/20\n",
      "625/625 [==============================] - 54s 86ms/step - loss: 1.5429 - accuracy: 0.5453 - val_loss: 1.8531 - val_accuracy: 0.4679 - lr: 0.0010\n",
      "Epoch 12/20\n",
      "625/625 [==============================] - 55s 88ms/step - loss: 1.4587 - accuracy: 0.5683 - val_loss: 1.9307 - val_accuracy: 0.4487 - lr: 5.0000e-04\n",
      "Epoch 13/20\n",
      "625/625 [==============================] - 54s 86ms/step - loss: 1.4124 - accuracy: 0.5791 - val_loss: 1.2174 - val_accuracy: 0.6414 - lr: 5.0000e-04\n",
      "Epoch 14/20\n",
      "625/625 [==============================] - 54s 87ms/step - loss: 1.3881 - accuracy: 0.5842 - val_loss: 1.4640 - val_accuracy: 0.5581 - lr: 5.0000e-04\n",
      "Epoch 15/20\n",
      "625/625 [==============================] - 54s 86ms/step - loss: 1.3764 - accuracy: 0.5841 - val_loss: 1.2033 - val_accuracy: 0.6487 - lr: 5.0000e-04\n",
      "Epoch 16/20\n",
      "625/625 [==============================] - 54s 86ms/step - loss: 1.3638 - accuracy: 0.5932 - val_loss: 1.2479 - val_accuracy: 0.6227 - lr: 5.0000e-04\n",
      "Epoch 17/20\n",
      "625/625 [==============================] - 54s 86ms/step - loss: 1.3158 - accuracy: 0.6027 - val_loss: 1.0423 - val_accuracy: 0.6954 - lr: 1.0000e-04\n",
      "Epoch 18/20\n",
      "625/625 [==============================] - 55s 87ms/step - loss: 1.2825 - accuracy: 0.6118 - val_loss: 1.0920 - val_accuracy: 0.6797 - lr: 1.0000e-04\n",
      "Epoch 19/20\n",
      "625/625 [==============================] - 54s 87ms/step - loss: 1.2599 - accuracy: 0.6189 - val_loss: 1.2128 - val_accuracy: 0.6341 - lr: 1.0000e-04\n",
      "Epoch 20/20\n",
      "625/625 [==============================] - 54s 86ms/step - loss: 1.2508 - accuracy: 0.6194 - val_loss: 0.9758 - val_accuracy: 0.7162 - lr: 1.0000e-04\n",
      "157/157 [==============================] - 2s 12ms/step\n"
     ]
    }
   ],
   "source": [
    "X_train_cnn = X_train.reshape(-1, 32, 32, 3)\n",
    "X_val_cnn = X_val.reshape(-1, 32, 32 ,3)\n",
    "X_test_cnn = X_test.reshape(-1, 32, 32, 3)\n",
    "\n",
    "# Data augmentation\n",
    "datagen = ImageDataGenerator(\n",
    "    rotation_range=20,\n",
    "    width_shift_range=0.2,\n",
    "    height_shift_range=0.2,\n",
    "    horizontal_flip=True,\n",
    ")\n",
    "datagen.fit(X_train_cnn)\n",
    "\n",
    "# Initialize CNN model\n",
    "cnn_model = models.Sequential()\n",
    "cnn_model.add(layers.Conv2D(64, (3, 3), activation='relu', input_shape=(32, 32, 3), kernel_regularizer=l2(0.001)))\n",
    "cnn_model.add(BatchNormalization())\n",
    "cnn_model.add(layers.MaxPooling2D((2, 2)))\n",
    "cnn_model.add(Dropout(0.25))\n",
    "\n",
    "cnn_model.add(layers.Conv2D(128, (3, 3), activation='relu', kernel_regularizer=l2(0.001)))\n",
    "cnn_model.add(BatchNormalization())\n",
    "cnn_model.add(layers.MaxPooling2D((2, 2)))\n",
    "cnn_model.add(Dropout(0.25))\n",
    "\n",
    "cnn_model.add(layers.Conv2D(128, (3, 3), activation='relu', kernel_regularizer=l2(0.001)))\n",
    "cnn_model.add(BatchNormalization())\n",
    "cnn_model.add(layers.MaxPooling2D((2, 2)))\n",
    "cnn_model.add(Dropout(0.25))\n",
    "\n",
    "cnn_model.add(layers.Flatten())\n",
    "cnn_model.add(layers.Dense(256, activation='relu', kernel_regularizer=l2(0.001)))\n",
    "cnn_model.add(BatchNormalization())\n",
    "cnn_model.add(Dropout(0.25))\n",
    "\n",
    "cnn_model.add(layers.Dense(10, activation='softmax'))\n",
    "\n",
    "# early_stopping = EarlyStopping(monitor='val_loss', patience=5, restore_best_weights=True)\n",
    "\n",
    "# Compile the model\n",
    "cnn_model.compile(optimizer='Adam', loss='categorical_crossentropy', metrics=['accuracy'])\n",
    "\n",
    "# Train the model\n",
    "cnn_model.fit(datagen.flow(X_train_cnn, y_train, batch_size=64), epochs=20, validation_data=(X_val_cnn, y_val), callbacks=[LearningRateScheduler(lr_schedule)])\n",
    "\n",
    "# Make predictions\n",
    "cnn_predictions = cnn_model.predict(X_test_cnn)\n",
    "cnn_predicted_labels = np.argmax(cnn_predictions, axis=1)"
   ]
  },
  {
   "cell_type": "markdown",
   "id": "86ed7376",
   "metadata": {},
   "source": [
    "### 4. Evaluate the model"
   ]
  },
  {
   "cell_type": "code",
   "execution_count": 29,
   "id": "7a328095",
   "metadata": {},
   "outputs": [],
   "source": [
    "from sklearn.metrics import confusion_matrix, classification_report, accuracy_score, roc_curve, auc\n",
    "import matplotlib.pyplot as plt\n",
    "import seaborn as sns\n",
    "from tensorflow.keras.layers import Flatten, Conv2D, MaxPooling2D"
   ]
  },
  {
   "cell_type": "markdown",
   "id": "90bc684e",
   "metadata": {},
   "source": [
    "<h4> MLP </h4>"
   ]
  },
  {
   "cell_type": "code",
   "execution_count": 30,
   "id": "46eccde6",
   "metadata": {},
   "outputs": [
    {
     "name": "stdout",
     "output_type": "stream",
     "text": [
      "313/313 [==============================] - 1s 2ms/step\n"
     ]
    },
    {
     "data": {
      "image/png": "[encoded data removed]",
      "text/plain": [
       "<Figure size 640x480 with 2 Axes>"
      ]
     },
     "metadata": {},
     "output_type": "display_data"
    },
    {
     "name": "stdout",
     "output_type": "stream",
     "text": [
      "MLP Classification Report:\n",
      "              precision    recall  f1-score   support\n",
      "\n",
      "           0       0.00      0.00      0.00      1023\n",
      "           1       0.00      0.00      0.00       994\n",
      "           2       0.09      1.00      0.17       933\n",
      "           3       0.00      0.00      0.00      1017\n",
      "           4       0.00      0.00      0.00      1030\n",
      "           5       0.00      0.00      0.00      1015\n",
      "           6       0.00      0.00      0.00       973\n",
      "           7       0.00      0.00      0.00       996\n",
      "           8       0.00      0.00      0.00      1040\n",
      "           9       0.00      0.00      0.00       979\n",
      "\n",
      "    accuracy                           0.09     10000\n",
      "   macro avg       0.01      0.10      0.02     10000\n",
      "weighted avg       0.01      0.09      0.02     10000\n",
      "\n",
      "MLP Accuracy: 0.09\n"
     ]
    },
    {
     "name": "stderr",
     "output_type": "stream",
     "text": [
      "d:\\anaconda\\envs\\mlenv\\lib\\site-packages\\sklearn\\metrics\\_classification.py:1344: UndefinedMetricWarning: Precision and F-score are ill-defined and being set to 0.0 in labels with no predicted samples. Use `zero_division` parameter to control this behavior.\n",
      "  _warn_prf(average, modifier, msg_start, len(result))\n",
      "d:\\anaconda\\envs\\mlenv\\lib\\site-packages\\sklearn\\metrics\\_classification.py:1344: UndefinedMetricWarning: Precision and F-score are ill-defined and being set to 0.0 in labels with no predicted samples. Use `zero_division` parameter to control this behavior.\n",
      "  _warn_prf(average, modifier, msg_start, len(result))\n",
      "d:\\anaconda\\envs\\mlenv\\lib\\site-packages\\sklearn\\metrics\\_classification.py:1344: UndefinedMetricWarning: Precision and F-score are ill-defined and being set to 0.0 in labels with no predicted samples. Use `zero_division` parameter to control this behavior.\n",
      "  _warn_prf(average, modifier, msg_start, len(result))\n"
     ]
    }
   ],
   "source": [
    "# Evaluate the model\n",
    "mlp_val_predictions = mlp_model.predict(X_val_mlp)\n",
    "mlp_val_predicted_labels = np.argmax(mlp_val_predictions, axis=1)\n",
    "y_val_labels = np.argmax(y_val, axis=1)\n",
    "\n",
    "# Confusion Matrix\n",
    "mlp_cm = confusion_matrix(y_val_labels, mlp_val_predicted_labels)\n",
    "sns.heatmap(mlp_cm, annot=True, fmt='d', cmap='Blues')\n",
    "plt.title('MLP Confusion Matrix')\n",
    "plt.xlabel('Predicted')\n",
    "plt.ylabel('True')\n",
    "plt.show()\n",
    "\n",
    "# Classification Report\n",
    "mlp_report = classification_report(y_val_labels, mlp_val_predicted_labels)\n",
    "print('MLP Classification Report:')\n",
    "print(mlp_report)\n",
    "\n",
    "# Accuracy\n",
    "mlp_accuracy = accuracy_score(y_val_labels, mlp_val_predicted_labels)\n",
    "print(f'MLP Accuracy: {mlp_accuracy:.2f}')"
   ]
  },
  {
   "cell_type": "code",
   "execution_count": 43,
   "id": "68d7353c",
   "metadata": {},
   "outputs": [
    {
     "name": "stdout",
     "output_type": "stream",
     "text": [
      "Epoch 1/10\n",
      "782/782 [==============================] - 6s 8ms/step - loss: 2.3026 - accuracy: 0.0997 - lr: 1.0000e-04\n",
      "Epoch 2/10\n",
      "782/782 [==============================] - 6s 7ms/step - loss: 2.3026 - accuracy: 0.0988 - lr: 1.0000e-04\n",
      "Epoch 3/10\n",
      "782/782 [==============================] - 6s 7ms/step - loss: 2.3026 - accuracy: 0.0965 - lr: 1.0000e-04\n",
      "Epoch 4/10\n",
      "782/782 [==============================] - 5s 7ms/step - loss: 2.3026 - accuracy: 0.0967 - lr: 1.0000e-04\n",
      "Epoch 5/10\n",
      "782/782 [==============================] - 6s 7ms/step - loss: 2.3026 - accuracy: 0.0976 - lr: 1.0000e-04\n",
      "Epoch 6/10\n",
      "782/782 [==============================] - 6s 7ms/step - loss: 2.3026 - accuracy: 0.0958 - lr: 1.0000e-04\n",
      "Epoch 7/10\n",
      "782/782 [==============================] - 6s 7ms/step - loss: 2.3026 - accuracy: 0.0976 - lr: 1.0000e-04\n",
      "Epoch 8/10\n",
      "782/782 [==============================] - 6s 7ms/step - loss: 2.3026 - accuracy: 0.0989 - lr: 1.0000e-04\n",
      "Epoch 9/10\n",
      "782/782 [==============================] - 6s 7ms/step - loss: 2.3026 - accuracy: 0.0982 - lr: 1.0000e-04\n",
      "Epoch 10/10\n",
      "782/782 [==============================] - 6s 7ms/step - loss: 2.3026 - accuracy: 0.0969 - lr: 1.0000e-04\n",
      "157/157 [==============================] - 0s 2ms/step\n"
     ]
    }
   ],
   "source": [
    "# Retrain the MLP model using the entire training set\n",
    "mlp_model.fit(np.concatenate([X_train_mlp, X_val_mlp]), np.concatenate([y_train, y_val]), \n",
    "              epochs=10, batch_size=64, callbacks=[LearningRateScheduler(lr_schedule)])\n",
    "\n",
    "# Predict test data\n",
    "mlp_test_predictions = mlp_model.predict(X_test_mlp)\n",
    "mlp_test_predicted_labels = np.argmax(mlp_test_predictions, axis=1)\n",
    "\n",
    "# Save prediction results\n",
    "submission = np.column_stack((id_test, mlp_test_predicted_labels))\n",
    "np.savetxt('submission_mlp.csv', submission, delimiter=',', header='id,label', comments='', fmt='%d')"
   ]
  },
  {
   "cell_type": "markdown",
   "id": "abc516c8",
   "metadata": {},
   "source": [
    "<h4> CNN </h4>"
   ]
  },
  {
   "cell_type": "code",
   "execution_count": 37,
   "id": "939e76e8",
   "metadata": {},
   "outputs": [
    {
     "name": "stdout",
     "output_type": "stream",
     "text": [
      "313/313 [==============================] - 4s 12ms/step\n"
     ]
    },
    {
     "data": {
      "image/png": "[encoded data removed]",
      "text/plain": [
       "<Figure size 640x480 with 2 Axes>"
      ]
     },
     "metadata": {},
     "output_type": "display_data"
    },
    {
     "name": "stdout",
     "output_type": "stream",
     "text": [
      "CNN Classification Report:\n",
      "              precision    recall  f1-score   support\n",
      "\n",
      "           0       0.57      0.25      0.35      1023\n",
      "           1       0.77      0.69      0.73       994\n",
      "           2       0.66      0.44      0.53       933\n",
      "           3       0.59      0.93      0.72      1017\n",
      "           4       0.69      0.43      0.52      1030\n",
      "           5       0.87      0.19      0.31      1015\n",
      "           6       0.75      0.64      0.69       973\n",
      "           7       0.37      0.95      0.53       996\n",
      "           8       0.76      0.77      0.77      1040\n",
      "           9       0.75      0.86      0.80       979\n",
      "\n",
      "    accuracy                           0.61     10000\n",
      "   macro avg       0.68      0.61      0.60     10000\n",
      "weighted avg       0.68      0.61      0.59     10000\n",
      "\n",
      "CNN Accuracy: 0.61\n"
     ]
    }
   ],
   "source": [
    "# Evaluate the model\n",
    "cnn_val_predictions = cnn_model.predict(X_val_cnn)\n",
    "cnn_val_predicted_labels = np.argmax(cnn_val_predictions, axis=1)\n",
    "# y_val_labels = np.argmax(y_val, axis=1)\n",
    "\n",
    "# Confusion Matrix\n",
    "cnn_cm = confusion_matrix(y_val_labels, cnn_val_predicted_labels)\n",
    "sns.heatmap(cnn_cm, annot=True, fmt='d', cmap='Blues')\n",
    "plt.title('CNN Confusion Matrix')\n",
    "plt.xlabel('Predicted')\n",
    "plt.ylabel('True')\n",
    "plt.show()\n",
    "\n",
    "# Classification Report\n",
    "cnn_report = classification_report(y_val_labels, cnn_val_predicted_labels)\n",
    "print('CNN Classification Report:')\n",
    "print(cnn_report)\n",
    "\n",
    "# Accuracy\n",
    "cnn_accuracy = accuracy_score(y_val_labels, cnn_val_predicted_labels)\n",
    "print(f'CNN Accuracy: {cnn_accuracy:.2f}')"
   ]
  },
  {
   "cell_type": "code",
   "execution_count": 45,
   "id": "828882ad",
   "metadata": {},
   "outputs": [
    {
     "name": "stdout",
     "output_type": "stream",
     "text": [
      "Epoch 1/20\n",
      "782/782 [==============================] - 64s 82ms/step - loss: 1.3046 - accuracy: 0.6089 - lr: 5.0000e-04\n",
      "Epoch 2/20\n",
      "782/782 [==============================] - 66s 85ms/step - loss: 1.3131 - accuracy: 0.6034 - lr: 5.0000e-04\n",
      "Epoch 3/20\n",
      "782/782 [==============================] - 65s 83ms/step - loss: 1.3082 - accuracy: 0.6073 - lr: 5.0000e-04\n",
      "Epoch 4/20\n",
      "782/782 [==============================] - 71s 91ms/step - loss: 1.3089 - accuracy: 0.6085 - lr: 5.0000e-04\n",
      "Epoch 5/20\n",
      "782/782 [==============================] - 72s 92ms/step - loss: 1.3046 - accuracy: 0.6095 - lr: 5.0000e-04\n",
      "Epoch 6/20\n",
      "782/782 [==============================] - 72s 91ms/step - loss: 1.3084 - accuracy: 0.6108 - lr: 5.0000e-04\n",
      "Epoch 7/20\n",
      "782/782 [==============================] - 72s 92ms/step - loss: 1.2990 - accuracy: 0.6157 - lr: 5.0000e-04\n",
      "Epoch 8/20\n",
      "782/782 [==============================] - 72s 92ms/step - loss: 1.3092 - accuracy: 0.6082 - lr: 5.0000e-04\n",
      "Epoch 9/20\n",
      "782/782 [==============================] - 70s 90ms/step - loss: 1.3047 - accuracy: 0.6111 - lr: 5.0000e-04\n",
      "Epoch 10/20\n",
      "782/782 [==============================] - 72s 92ms/step - loss: 1.3083 - accuracy: 0.6099 - lr: 5.0000e-04\n",
      "Epoch 11/20\n",
      "782/782 [==============================] - 71s 91ms/step - loss: 1.2994 - accuracy: 0.6124 - lr: 5.0000e-04\n",
      "Epoch 12/20\n",
      "782/782 [==============================] - 71s 90ms/step - loss: 1.3042 - accuracy: 0.6115 - lr: 5.0000e-04\n",
      "Epoch 13/20\n",
      "782/782 [==============================] - 72s 92ms/step - loss: 1.2968 - accuracy: 0.6129 - lr: 5.0000e-04\n",
      "Epoch 14/20\n",
      "782/782 [==============================] - 71s 91ms/step - loss: 1.3057 - accuracy: 0.6122 - lr: 5.0000e-04\n",
      "Epoch 15/20\n",
      "782/782 [==============================] - 71s 91ms/step - loss: 1.3037 - accuracy: 0.6128 - lr: 5.0000e-04\n",
      "Epoch 16/20\n",
      "782/782 [==============================] - 94s 120ms/step - loss: 1.2934 - accuracy: 0.6183 - lr: 5.0000e-04\n",
      "Epoch 17/20\n",
      "782/782 [==============================] - 72s 92ms/step - loss: 1.2405 - accuracy: 0.6350 - lr: 1.0000e-04\n",
      "Epoch 18/20\n",
      "782/782 [==============================] - 71s 91ms/step - loss: 1.2031 - accuracy: 0.6436 - lr: 1.0000e-04\n",
      "Epoch 19/20\n",
      "782/782 [==============================] - 72s 93ms/step - loss: 1.1897 - accuracy: 0.6460 - lr: 1.0000e-04\n",
      "Epoch 20/20\n",
      "782/782 [==============================] - 72s 92ms/step - loss: 1.1733 - accuracy: 0.6479 - lr: 1.0000e-04\n",
      "157/157 [==============================] - 3s 16ms/step\n"
     ]
    }
   ],
   "source": [
    "# Retrain the CNN model using the entire training set\n",
    "cnn_model.fit(datagen.flow(np.concatenate([X_train_cnn, X_val_cnn]), np.concatenate([y_train, y_val]), batch_size=64),\n",
    "              epochs=20, callbacks=[LearningRateScheduler(lr_schedule)])\n",
    "\n",
    "# Predict test data\n",
    "cnn_test_predictions = cnn_model.predict(X_test_cnn)\n",
    "cnn_test_predicted_labels = np.argmax(cnn_test_predictions, axis=1)\n",
    "\n",
    "# Save prediction results\n",
    "submission = np.column_stack((id_test, cnn_test_predicted_labels))\n",
    "np.savetxt('submission_cnn.csv', submission, delimiter=',', header='id,label', comments='', fmt='%d')"
   ]
  },
  {
   "cell_type": "markdown",
   "id": "59ecfe20",
   "metadata": {},
   "source": [
    "### 5. Summary"
   ]
  },
  {
   "cell_type": "markdown",
   "id": "a1c67293",
   "metadata": {},
   "source": [
    "<h4> What I have found during training and evaluation </h4>\n",
    "<ol>\n",
    "    <li>For this image classification problem with lots of data, CNN model always performs better than MLP model, which corresponds with the usage cases for these two deep learning algorithms.</li>\n",
    "</ol>"
   ]
  },
  {
   "cell_type": "markdown",
   "id": "9d436ddf",
   "metadata": {},
   "source": [
    "<h4> Training and evaluation steps </h4>\n",
    "<h5> MLP model </h5>\n",
    "<ol>\n",
    "    <li>Data reshaped to a 2D format.</li>\n",
    "    <li>MLP model built with dense layers and dropout for regularization.</li>\n",
    "    <li>Model trained for 20 epochs with a batch size of 64.</li>\n",
    "    <li>Learning rate schedule applied.</li>\n",
    "    <li>Initial evaluation on validation data during training.</li>\n",
    "    <li>Model retrained using combined training and validation sets, and predictions made on test data.</li>\n",
    "</ol>\n",
    "<h5> CNN model </h5>\n",
    "<ol>\n",
    "    <li>Data reshaped to a 4D format suitable for CNNs.</li>\n",
    "    <li>CNN model built with convolutional layers, batch normalization, and dropout.</li>\n",
    "    <li>Model trained for 20 epochs with a batch size of 64 using augmented data.</li>\n",
    "    <li>Learning rate schedule applied.</li>\n",
    "    <li>Initial evaluation on validation data during training.</li>\n",
    "    <li>Model retrained using combined training and validation sets, and predictions made on test data.</li>\n",
    "</ol>"
   ]
  },
  {
   "cell_type": "markdown",
   "id": "784964f1",
   "metadata": {},
   "source": [
    "<h4> Next steps to improve the models </h4>\n",
    "<h5> MLP model </h5>\n",
    "<ol>\n",
    "    <li>Tune hyperparameters.</li>\n",
    "    <li>Experiment with different activation functions.</li>\n",
    "    <li>Increase training epochs and/or batch size.</li>\n",
    "    <li>Implement early stopping to avoid overfitting.</li>\n",
    "</ol>\n",
    "<h5> CNN model </h5>\n",
    "<ol>\n",
    "    <li>Tune hyperparameters and adjust convolutional layers.</li>\n",
    "    <li>Try different optimizers.</li>\n",
    "    <li>Implement early stopping and model checkpointing.</li>\n",
    "</ol>"
   ]
  }
 ],
 "metadata": {
  "kernelspec": {
   "display_name": "Python 3 (ipykernel)",
   "language": "python",
   "name": "python3"
  },
  "language_info": {
   "codemirror_mode": {
    "name": "ipython",
    "version": 3
   },
   "file_extension": ".py",
   "mimetype": "text/x-python",
   "name": "python",
   "nbconvert_exporter": "python",
   "pygments_lexer": "ipython3",
   "version": "3.8.18"
  }
 },
 "nbformat": 4,
 "nbformat_minor": 5
}
